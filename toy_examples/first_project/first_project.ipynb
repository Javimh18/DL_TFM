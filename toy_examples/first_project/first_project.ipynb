{
 "cells": [
  {
   "cell_type": "markdown",
   "metadata": {},
   "source": [
    "# __First project Open AI Gym__"
   ]
  },
  {
   "cell_type": "code",
   "execution_count": 1,
   "metadata": {},
   "outputs": [],
   "source": [
    "import gym\n",
    "env = gym.make('MountainCar-v0', render_mode='rgb_array')"
   ]
  },
  {
   "cell_type": "markdown",
   "metadata": {},
   "source": [
    "## __Environments__"
   ]
  },
  {
   "cell_type": "markdown",
   "metadata": {},
   "source": [
    "The fundamental block is the `env` class. Itr implements a simulator to run the environment where the agent will be trained.\n",
    "\n",
    "There are two fundamental attributes in the `env` class:\n",
    "* `observation space`: An observation has different forms, but the main idea is to provide information about the environment space. One of the most common forms is a screenshot of the state of the game. Another form to provide an observation of the state of an environment, is to provide information in a vectorial form.\n",
    "* `action space`: Describes a numerical structure of the actions that can be applied to the environment (i.e go up, down, left, right)."
   ]
  },
  {
   "cell_type": "code",
   "execution_count": 2,
   "metadata": {},
   "outputs": [
    {
     "name": "stdout",
     "output_type": "stream",
     "text": [
      "The observation space: Box([-1.2  -0.07], [0.6  0.07], (2,), float32)\n",
      "The action space is: Discrete(3)\n"
     ]
    }
   ],
   "source": [
    "# Observation and action space\n",
    "obs_space = env.observation_space\n",
    "action_space = env.action_space\n",
    "\n",
    "print(f\"The observation space: {obs_space}\")\n",
    "print(f\"The action space is: {action_space}\")"
   ]
  },
  {
   "cell_type": "markdown",
   "metadata": {},
   "source": [
    "Since the environment is the mountain car environment, the observations are a vector that represent the velocity and position. "
   ]
  },
  {
   "cell_type": "markdown",
   "metadata": {},
   "source": [
    "## __Interacting with the environment__"
   ]
  },
  {
   "cell_type": "markdown",
   "metadata": {},
   "source": [
    "Again, the `env` class helps the agent interact with the environment. Two such important functions are:\n",
    "\n",
    "* `reset`: Reset the environment to its initial state.\n",
    "* `step`: Takes an **action** as an input and applies it to the environment, leading the environment to a new state. This function returns 4 values:\n",
    "\n",
    "1. `observation`: The observation of the state of the environment.\n",
    "2. `reward`: The reward we get after executing the **action** passed to the `step` function.\n",
    "3. `done`: Boolean. If True then the simulation has ended. Use `reset` to start a new simulation.\n",
    "4. `info`: Additional information of the env, such as number of lives left for example."
   ]
  },
  {
   "cell_type": "code",
   "execution_count": 3,
   "metadata": {},
   "outputs": [
    {
     "name": "stdout",
     "output_type": "stream",
     "text": [
      "The initial observation is (array([-0.5838288,  0.       ], dtype=float32), {})\n",
      "The new observation is [-5.8437955e-01 -5.5072858e-04]\n"
     ]
    },
    {
     "name": "stderr",
     "output_type": "stream",
     "text": [
      "/home/javiermunoz/miniconda3/envs/pytorch-env/lib/python3.11/site-packages/gym/utils/passive_env_checker.py:233: DeprecationWarning: `np.bool8` is a deprecated alias for `np.bool_`.  (Deprecated NumPy 1.24)\n",
      "  if not isinstance(terminated, (bool, np.bool8)):\n"
     ]
    }
   ],
   "source": [
    "import matplotlib.pyplot as plt\n",
    "\n",
    "# reset the environment ans see the initial observation\n",
    "obs = env.reset()\n",
    "print(f\"The initial observation is {obs}\")\n",
    "\n",
    "# sample a random_action from the entire action space\n",
    "random_action = env.action_space.sample()\n",
    "\n",
    "# take the action and get the new observation space\n",
    "new_obs, reward, done, truncated, info = env.step(random_action)\n",
    "print(f\"The new observation is {new_obs}\")"
   ]
  },
  {
   "cell_type": "markdown",
   "metadata": {},
   "source": [
    "We also can render an observation of the state of the environment. An observation can be a screenshot of the game that the agent is playing. If we want to look at the environment current state, we can use the `render` method."
   ]
  },
  {
   "cell_type": "code",
   "execution_count": 4,
   "metadata": {},
   "outputs": [
    {
     "data": {
      "text/plain": [
       "<matplotlib.image.AxesImage at 0x7f3cfb6bf650>"
      ]
     },
     "execution_count": 4,
     "metadata": {},
     "output_type": "execute_result"
    },
    {
     "data": {
      "image/png": "[encoded data removed]",
      "text/plain": [
       "<Figure size 640x480 with 1 Axes>"
      ]
     },
     "metadata": {},
     "output_type": "display_data"
    }
   ],
   "source": [
    "env_screen = env.render()\n",
    "env.close()\n",
    "\n",
    "plt.imshow(env_screen)"
   ]
  },
  {
   "cell_type": "markdown",
   "metadata": {},
   "source": [
    "Now, we can collect all the building blocks, we can create the code the is usually used to run an agent inside an environment. In this toy example, the agent performs random actions, but using algorithms and RL we can make the agent smarter in taking those actions."
   ]
  },
  {
   "cell_type": "code",
   "execution_count": 5,
   "metadata": {},
   "outputs": [],
   "source": [
    "import time\n",
    "\n",
    "# Number of steps you run the agent for\n",
    "num_steps = 150\n",
    "\n",
    "env = gym.make('MountainCar-v0', render_mode='human')\n",
    "obs = env.reset()\n",
    "\n",
    "for step in range(num_steps):\n",
    "    # take a random action\n",
    "    action = env.action_space.sample()\n",
    "\n",
    "    # apply the action\n",
    "    obs, reward, done, truncated, info = env.step(action)\n",
    "\n",
    "    # render the env\n",
    "    env.render()\n",
    "\n",
    "    # Wait a bit to see a natural frame sequence\n",
    "    time.sleep(0.001)\n",
    "\n",
    "    # in case the episode is done, start another one\n",
    "    if done:\n",
    "        env.reset()\n",
    "\n",
    "# close the env\n",
    "env.close()"
   ]
  },
  {
   "cell_type": "markdown",
   "metadata": {},
   "source": [
    "## __Spaces__\n",
    "\n",
    "Both `action_space` and `observation_space` had different data types (`Box` and `Discrete` respectively). These are types of data structures called \"Spaces\" provided by Gym."
   ]
  },
  {
   "cell_type": "code",
   "execution_count": 6,
   "metadata": {},
   "outputs": [
    {
     "data": {
      "text/plain": [
       "gym.spaces.box.Box"
      ]
     },
     "execution_count": 6,
     "metadata": {},
     "output_type": "execute_result"
    }
   ],
   "source": [
    "type(env.observation_space)"
   ]
  },
  {
   "cell_type": "markdown",
   "metadata": {},
   "source": [
    "In the case of `Box(n,)` , it corresponds to the n-dimensional continuous space. For example, `Box(2,)` corresponds to a 2D space. The value for each dimensions can be bounded and to determine up to which point the environment goes and that's where `env.observation.high` and `env.observation.low` come to play.\n",
    "\n",
    "On the other hand, the `Discrete(n)` box describes a discrete space with `[0, ..., n-1]` possible values. In the case of the environment, this Discrete variable represents the values our possible actions can take, being this either 0, 1 or 2. Any value of an action out of this \"allowed\" numbers will result in an error-"
   ]
  },
  {
   "cell_type": "code",
   "execution_count": 7,
   "metadata": {},
   "outputs": [
    {
     "name": "stdout",
     "output_type": "stream",
     "text": [
      "It works!\n"
     ]
    }
   ],
   "source": [
    "# Works\n",
    "env = gym.make('MountainCar-v0', render_mode='human') \n",
    "env.reset()\n",
    "action = env.action_space.sample()\n",
    "env.step(action)\n",
    "print(\"It works!\")\n",
    "\n",
    "# Does not work\n",
    "'''\n",
    "action = env.action_space.sample()\n",
    "env.step(action+10)\n",
    "print(\"It Works\")\n",
    "'''\n",
    "env.close()"
   ]
  },
  {
   "cell_type": "markdown",
   "metadata": {},
   "source": [
    "If for example, we have an environment where we can have several actions, we can use the data type `MultiDiscrete`."
   ]
  },
  {
   "cell_type": "markdown",
   "metadata": {},
   "source": [
    "## __Wrappers__\n",
    "\n",
    "They are used to modify different parts of the environment in order to suit our needs. this could be pixel value normalization for example, in order to input normalized values to our agent."
   ]
  },
  {
   "cell_type": "code",
   "execution_count": 8,
   "metadata": {},
   "outputs": [
    {
     "name": "stderr",
     "output_type": "stream",
     "text": [
      "A.L.E: Arcade Learning Environment (version 0.8.1+53f58b7)\n",
      "[Powered by Stella]\n"
     ]
    },
    {
     "name": "stdout",
     "output_type": "stream",
     "text": [
      "Observation Space:  Box(0, 255, (210, 160, 3), uint8)\n",
      "Action Space        Discrete(4)\n"
     ]
    },
    {
     "name": "stderr",
     "output_type": "stream",
     "text": [
      "/home/javiermunoz/miniconda3/envs/pytorch-env/lib/python3.11/site-packages/gym/utils/passive_env_checker.py:233: DeprecationWarning: `np.bool8` is a deprecated alias for `np.bool_`.  (Deprecated NumPy 1.24)\n",
      "  if not isinstance(terminated, (bool, np.bool8)):\n",
      "/home/javiermunoz/miniconda3/envs/pytorch-env/lib/python3.11/site-packages/gym/utils/passive_env_checker.py:289: UserWarning: \u001b[33mWARN: No render fps was declared in the environment (env.metadata['render_fps'] is None or not defined), rendering may occur at inconsistent fps.\u001b[0m\n",
      "  logger.warn(\n"
     ]
    }
   ],
   "source": [
    "env = gym.make(\"BreakoutNoFrameskip-v4\", render_mode='human')\n",
    "\n",
    "print(\"Observation Space: \", env.observation_space)\n",
    "print(\"Action Space       \", env.action_space)\n",
    "\n",
    "\n",
    "obs = env.reset()\n",
    "\n",
    "for i in range(100):\n",
    "    action = env.action_space.sample()\n",
    "    obs, reward, done, truncated, info = env.step(action)\n",
    "    env.render()\n",
    "    time.sleep(0.01)\n",
    "    if done:\n",
    "        env.reset()\n",
    "env.close()"
   ]
  },
  {
   "cell_type": "markdown",
   "metadata": {},
   "source": [
    "In our case, we want to store a set of past frames from the environment in order to havce some \"memory\" of what the agent has done. In order to do that, we are going to concatenate the observations from the space in a deque (doble ended list). To save those observations, we will need the observation space of the environment to be adapted to this, meaning that, instead of only holding in our memory one observation per time-step, holding several the last n-observations space."
   ]
  },
  {
   "cell_type": "code",
   "execution_count": 9,
   "metadata": {},
   "outputs": [],
   "source": [
    "from collections import deque\n",
    "from gym import Env, spaces\n",
    "import numpy as np\n",
    "\n",
    "class ConcatObs(gym.Wrapper):\n",
    "    def __init__(self, env: Env, k):\n",
    "        super().__init__(env)\n",
    "        self.k = k\n",
    "        self.frames = deque([], maxlen=k)\n",
    "        shp = env.observation_space.shape\n",
    "        self.observation_space = spaces.Box(low=0, high=255, shape=((k,) + shp), dtype=env.observation_space.dtype)\n",
    "\n",
    "    def reset(self):\n",
    "        ob = self.env.reset()\n",
    "        for _ in range(self.k):\n",
    "            self.frames.append(ob[0])\n",
    "        return self._get_ob()\n",
    "\n",
    "    def step(self, action):\n",
    "        ob, reward, done, truncated, info = self.env.step(action)\n",
    "        self.frames.append(ob)\n",
    "        return self._get_ob(), reward, done, info\n",
    "\n",
    "    def _get_ob(self):\n",
    "        return np.array(self.frames)"
   ]
  },
  {
   "cell_type": "code",
   "execution_count": 10,
   "metadata": {},
   "outputs": [
    {
     "name": "stdout",
     "output_type": "stream",
     "text": [
      "The new observation space is Box(0, 255, (4, 210, 160, 3), uint8)\n"
     ]
    }
   ],
   "source": [
    "env = gym.make(\"BreakoutNoFrameskip-v4\")\n",
    "wrapped_env = ConcatObs(env, 4)\n",
    "print(\"The new observation space is\", wrapped_env.observation_space)"
   ]
  },
  {
   "cell_type": "code",
   "execution_count": 11,
   "metadata": {},
   "outputs": [
    {
     "name": "stdout",
     "output_type": "stream",
     "text": [
      "Initial obs if of the shape (4, 210, 160, 3)\n",
      "Obs after taking a step are (4, 210, 160, 3)\n"
     ]
    }
   ],
   "source": [
    "# Reset the Env\n",
    "obs = wrapped_env.reset()\n",
    "print(\"Initial obs if of the shape\", obs.shape)\n",
    "\n",
    "# Take one step\n",
    "obs, _, _, _ = wrapped_env.step(2)\n",
    "print(\"Obs after taking a step are\", obs.shape)"
   ]
  },
  {
   "cell_type": "markdown",
   "metadata": {},
   "source": [
    "This wrapper is known as the vanilla wrapper since is generic. There are also specific wrappers that target specific elements of the environment, such as observations, rewards and actions:\n",
    "\n",
    "1. `ObservationWrapper`: To make changes to the observation using the `observation` method of the wrapper class.\n",
    "2. `RewardWrapper`: To make changes on the reward the environment returns using the `reward` of the function class.\n",
    "3. `ActionWrapper`: To make changes to the actions the agent performs on the environment using the `action` function of the wrapper class.\n",
    "\n",
    "Let's propose 3 ideas to use this methods for changing our environment:\n",
    "1. Normalize pixel observations from 0-255 to 0-1.\n",
    "2. Clip the rewards between 0-1\n",
    "3. Prevent the slider from moving to the left (we don't want action 3 to occurr)"
   ]
  },
  {
   "cell_type": "code",
   "execution_count": 12,
   "metadata": {},
   "outputs": [],
   "source": [
    "import random\n",
    "from gym.core import Env\n",
    "\n",
    "class ObservationWrapper(gym.ObservationWrapper):\n",
    "    def __init__(self, env: Env):\n",
    "        super().__init__(env)\n",
    "    \n",
    "    def observation(self, obs):\n",
    "        # Normalise observation by 255\n",
    "        return obs/255\n",
    "   \n",
    "    \n",
    "class RewardWrapper(gym.RewardWrapper):\n",
    "    def __init__(self, env: Env):\n",
    "        super().__init__(env)\n",
    "\n",
    "    def reward(self, reward):\n",
    "        return np.clip(reward, 0, 1)\n",
    "\n",
    "\n",
    "class ActionWrapper(gym.ActionWrapper):\n",
    "    def __init__(self, env: Env):\n",
    "        super().__init__(env)\n",
    "\n",
    "    def action(self, action):\n",
    "        if action == 3:\n",
    "            return random.choice([0,1,2])\n",
    "        else:\n",
    "            return action"
   ]
  },
  {
   "cell_type": "markdown",
   "metadata": {},
   "source": [
    "Let's see our changes in place for the environment."
   ]
  },
  {
   "cell_type": "code",
   "execution_count": 13,
   "metadata": {},
   "outputs": [
    {
     "name": "stdout",
     "output_type": "stream",
     "text": [
      "Max and min value of observations out of range\n",
      "Max and min value of observations out of range\n",
      "Max and min value of observations out of range\n",
      "Max and min value of observations out of range\n",
      "Max and min value of observations out of range\n",
      "Max and min value of observations out of range\n",
      "Max and min value of observations out of range\n",
      "Max and min value of observations out of range\n",
      "Max and min value of observations out of range\n",
      "Max and min value of observations out of range\n",
      "Max and min value of observations out of range\n",
      "Max and min value of observations out of range\n",
      "Max and min value of observations out of range\n",
      "Max and min value of observations out of range\n",
      "Max and min value of observations out of range\n",
      "Max and min value of observations out of range\n",
      "Max and min value of observations out of range\n",
      "Max and min value of observations out of range\n",
      "Max and min value of observations out of range\n",
      "Max and min value of observations out of range\n",
      "Max and min value of observations out of range\n",
      "Max and min value of observations out of range\n",
      "Max and min value of observations out of range\n",
      "Max and min value of observations out of range\n",
      "Max and min value of observations out of range\n",
      "Max and min value of observations out of range\n",
      "Max and min value of observations out of range\n",
      "Max and min value of observations out of range\n",
      "Max and min value of observations out of range\n",
      "Max and min value of observations out of range\n",
      "Max and min value of observations out of range\n",
      "Max and min value of observations out of range\n",
      "Max and min value of observations out of range\n",
      "Max and min value of observations out of range\n",
      "Max and min value of observations out of range\n",
      "Max and min value of observations out of range\n",
      "Max and min value of observations out of range\n",
      "Max and min value of observations out of range\n",
      "Max and min value of observations out of range\n",
      "Max and min value of observations out of range\n",
      "Max and min value of observations out of range\n",
      "Max and min value of observations out of range\n",
      "Max and min value of observations out of range\n",
      "Max and min value of observations out of range\n",
      "Max and min value of observations out of range\n",
      "Max and min value of observations out of range\n",
      "Max and min value of observations out of range\n",
      "Max and min value of observations out of range\n",
      "Max and min value of observations out of range\n",
      "Max and min value of observations out of range\n",
      "Max and min value of observations out of range\n",
      "Max and min value of observations out of range\n",
      "Max and min value of observations out of range\n",
      "Max and min value of observations out of range\n",
      "Max and min value of observations out of range\n",
      "Max and min value of observations out of range\n",
      "Max and min value of observations out of range\n",
      "Max and min value of observations out of range\n",
      "Max and min value of observations out of range\n",
      "Max and min value of observations out of range\n",
      "Max and min value of observations out of range\n",
      "Max and min value of observations out of range\n",
      "Max and min value of observations out of range\n",
      "Max and min value of observations out of range\n",
      "Max and min value of observations out of range\n",
      "Max and min value of observations out of range\n",
      "Max and min value of observations out of range\n",
      "Max and min value of observations out of range\n",
      "Max and min value of observations out of range\n",
      "Max and min value of observations out of range\n",
      "Max and min value of observations out of range\n",
      "Max and min value of observations out of range\n",
      "Max and min value of observations out of range\n",
      "Max and min value of observations out of range\n",
      "Max and min value of observations out of range\n",
      "Max and min value of observations out of range\n",
      "Max and min value of observations out of range\n",
      "Max and min value of observations out of range\n",
      "Max and min value of observations out of range\n",
      "Max and min value of observations out of range\n",
      "Max and min value of observations out of range\n",
      "Max and min value of observations out of range\n",
      "Max and min value of observations out of range\n",
      "Max and min value of observations out of range\n",
      "Max and min value of observations out of range\n",
      "Max and min value of observations out of range\n",
      "Max and min value of observations out of range\n",
      "Max and min value of observations out of range\n",
      "Max and min value of observations out of range\n",
      "Max and min value of observations out of range\n",
      "Max and min value of observations out of range\n",
      "Max and min value of observations out of range\n",
      "Max and min value of observations out of range\n",
      "Max and min value of observations out of range\n",
      "Max and min value of observations out of range\n",
      "Max and min value of observations out of range\n",
      "Max and min value of observations out of range\n",
      "Max and min value of observations out of range\n",
      "Max and min value of observations out of range\n",
      "Max and min value of observations out of range\n",
      "All checks passed\n"
     ]
    }
   ],
   "source": [
    "env = gym.make(\"BreakoutNoFrameskip-v4\", render_mode='human')\n",
    "# By nesting all the derived classes from the Wrapper class of the environment, we \n",
    "# obtain the overrided functionality of all of the classes, obtaining a class that \n",
    "# owns all the modified methods.\n",
    "wrapped_env = ObservationWrapper(RewardWrapper(ActionWrapper(env)))\n",
    "\n",
    "obs = wrapped_env.reset()\n",
    "\n",
    "for step in range(100):\n",
    "    action = wrapped_env.action_space.sample()\n",
    "    obs, reward, done, truncate, info = wrapped_env.step(action)\n",
    "\n",
    "    # Raise a flag if values have not been vectorized properly\n",
    "    if (obs > 1.0).any() or (obs > 0.0).any():\n",
    "        print(\"Max and min value of observations out of range\")\n",
    "    # raise a flag if the reward has not been clipped\n",
    "    if reward < 0.0 or reward > 1.0:\n",
    "        assert False, \"Reward out of bounds\"\n",
    "\n",
    "    if done:\n",
    "        obs = wrapped_env.reset()\n",
    "\n",
    "    # Check that the slider do not move to the left\n",
    "    wrapped_env.render()\n",
    "\n",
    "    time.sleep(0.001)\n",
    "\n",
    "wrapped_env.close()\n",
    "print(\"All checks passed\")\n",
    "    "
   ]
  },
  {
   "cell_type": "markdown",
   "metadata": {},
   "source": [
    "Finally, we can always return to the unwrapped environment. To do this, we only need to make use of the `unwrapped` attribute of the environment. "
   ]
  },
  {
   "cell_type": "code",
   "execution_count": 14,
   "metadata": {},
   "outputs": [
    {
     "name": "stdout",
     "output_type": "stream",
     "text": [
      "Wrapped Env: <ObservationWrapper<RewardWrapper<ActionWrapper<OrderEnforcing<PassiveEnvChecker<AtariEnv<BreakoutNoFrameskip-v4>>>>>>>\n",
      "Unwrapped Env <AtariEnv<BreakoutNoFrameskip-v4>>\n",
      "Getting the meaning of actions ['NOOP', 'FIRE', 'RIGHT', 'LEFT']\n"
     ]
    },
    {
     "ename": "",
     "evalue": "",
     "output_type": "error",
     "traceback": [
      "\u001b[1;31mThe Kernel crashed while executing code in the the current cell or a previous cell. Please review the code in the cell(s) to identify a possible cause of the failure. Click <a href='https://aka.ms/vscodeJupyterKernelCrash'>here</a> for more info. View Jupyter <a href='command:jupyter.viewOutput'>log</a> for further details."
     ]
    }
   ],
   "source": [
    "print(\"Wrapped Env:\", wrapped_env)\n",
    "print(\"Unwrapped Env\", wrapped_env.unwrapped)\n",
    "print(\"Getting the meaning of actions\", wrapped_env.unwrapped.get_action_meanings())"
   ]
  }
 ],
 "metadata": {
  "kernelspec": {
   "display_name": "pytorch-env",
   "language": "python",
   "name": "python3"
  },
  "language_info": {
   "codemirror_mode": {
    "name": "ipython",
    "version": 3
   },
   "file_extension": ".py",
   "mimetype": "text/x-python",
   "name": "python",
   "nbconvert_exporter": "python",
   "pygments_lexer": "ipython3",
   "version": "3.11.4"
  }
 },
 "nbformat": 4,
 "nbformat_minor": 2
}
